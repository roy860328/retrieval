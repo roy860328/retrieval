{
 "cells": [
  {
   "cell_type": "code",
   "execution_count": null,
   "metadata": {},
   "outputs": [],
   "source": [
    " cd the-root-path-of-this-repository \n",
    " conda env create -f environment.yml\n",
    " conda activate retallm\n",
    " \n",
    " pip install adapter-transformers --force-reinstall\n",
    " pip install transformers==4.28.0 --force-reinstall\n",
    " git clone https://github.com/adapter-hub/adapter-transformers.git  \n",
    " mv adapter-transformers adaptertransformers\n",
    "\n",
    " #The above four lines are used to fix the conflicts between adapter-transformers and transfomers. Please don't adjust the order bewteen them.\n"
   ]
  },
  {
   "cell_type": "code",
   "execution_count": null,
   "metadata": {},
   "outputs": [],
   "source": [
    "pip install streamlit\n",
    "pip install streamlit-chat\n",
    "pip install accelerate\n",
    "pip install pyserini\n",
    "pip install openai"
   ]
  },
  {
   "cell_type": "code",
   "execution_count": null,
   "metadata": {},
   "outputs": [],
   "source": [
    "\n",
    "pip install torch torchvision torchaudio --index-url https://download.pytorch.org/whl/cpu\n"
   ]
  },
  {
   "cell_type": "code",
   "execution_count": null,
   "metadata": {},
   "outputs": [],
   "source": [
    "cd indexer\n",
    "python index_pipeline.py --index_type all  \\\n",
    "    --data_dir ../json_data  \\\n",
    "    --index_save_dir ../index \\\n",
    "    --batch_size 128 \\\n",
    "    --use_content_type all \\\n",
    "    --train_dam_flag \\\n",
    "    --language zh\n",
    "cd ..\n",
    "\n",
    "\n",
    "python index_pipeline.py --index_type all  \\\n",
    "    --data_dir ../json_data  \\\n",
    "    --index_save_dir ../index \\\n",
    "    --batch_size 1 \\\n",
    "    --use_content_type all \\\n",
    "    --language zh\n",
    "    --train_dam_flag \\\n",
    "                            \"--output_dir\", dam_path,\n",
    "                            \"--model_name_or_path\", init_model,\n",
    "\n",
    "\n",
    "\n",
    "        # set default dam_path\n",
    "        if (not train_dam_flag) and (dam_path == None):\n",
    "            if language == \"zh\":\n",
    "                self.dam_path = \"jingtao/DAM-bert_base-mlm-dureader\"\n",
    "            else:\n",
    "                self.dam_path = \"jingtao/DAM-bert_base-mlm-msmarco\"\n",
    "        \n",
    "        # set REM url\n",
    "        if language == \"zh\":\n",
    "            self.rem_url = \"https://huggingface.co/jingtao/REM-bert_base-dense-distil-dureader/resolve/main/lora192-pa4.zip\"\n",
    "        else:\n",
    "            self.rem_url = \"https://huggingface.co/jingtao/REM-bert_base-dense-distil-msmarco/resolve/main/lora192-pa4.zip\"\n",
    "\n",
    "\n",
    "        if self.language == \"zh\":\n",
    "            init_model = \"jingtao/DAM-bert_base-mlm-dureader\"\n",
    "        else:\n",
    "            init_model = \"jingtao/DAM-bert_base-mlm-msmarco\"\n",
    "\n",
    "        adapter_name = model.load_adapter(self.rem_url)"
   ]
  },
  {
   "cell_type": "code",
   "execution_count": null,
   "metadata": {},
   "outputs": [],
   "source": [
    "cd system/\n",
    "streamlit run web_demo.py --server.port 1241\n"
   ]
  }
 ],
 "metadata": {
  "language_info": {
   "name": "python"
  },
  "orig_nbformat": 4
 },
 "nbformat": 4,
 "nbformat_minor": 2
}
