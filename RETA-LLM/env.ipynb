{
 "cells": [
  {
   "cell_type": "code",
   "execution_count": null,
   "metadata": {},
   "outputs": [],
   "source": [
    "https://www.rosehosting.com/blog/how-to-install-anaconda-on-ubuntu-18-04/\n",
    "cd retrieval/RETA-LLM/\n",
    "curl -O https://repo.anaconda.com/archive/Anaconda3-2019.03-Linux-x86_64.sh\n"
   ]
  },
  {
   "cell_type": "code",
   "execution_count": null,
   "metadata": {},
   "outputs": [],
   "source": [
    " cd the-root-path-of-this-repository \n",
    " conda env create -f environment.yml\n",
    " conda activate retallm\n",
    " \n",
    " pip install adapter-transformers --force-reinstall\n",
    " pip install transformers==4.28.0 --force-reinstall\n",
    " git clone https://github.com/adapter-hub/adapter-transformers.git  \n",
    " mv adapter-transformers adaptertransformers\n",
    "\n",
    " #The above four lines are used to fix the conflicts between adapter-transformers and transfomers. Please don't adjust the order bewteen them.\n"
   ]
  },
  {
   "cell_type": "code",
   "execution_count": null,
   "metadata": {},
   "outputs": [],
   "source": [
    "pip install streamlit\n",
    "pip install streamlit-chat\n",
    "pip install accelerate\n",
    "pip install pyserini\n",
    "pip install openai"
   ]
  },
  {
   "cell_type": "code",
   "execution_count": null,
   "metadata": {},
   "outputs": [],
   "source": [
    "\n",
    "pip install torch torchvision torchaudio --index-url https://download.pytorch.org/whl/cpu\n"
   ]
  },
  {
   "cell_type": "code",
   "execution_count": null,
   "metadata": {},
   "outputs": [],
   "source": [
    "unzip sample_data.zip\n",
    "mv sample_data raw_data\n",
    "mv sample_url.txt url.txt\n",
    "\n",
    "cd html2json\n",
    "python html2json.py --input_dir ../raw_data --output_dir ../json_data --url_file ../url.txt\n",
    "python deduplication.py # This code is used to remove duplicated n-grams in the processed json files among all html files. \n",
    "cd ..\n",
    "\n",
    "\n",
    "cd indexer\n",
    "python index_pipeline.py --index_type all  \\\n",
    "    --data_dir ../json_data  \\\n",
    "    --index_save_dir ../index \\\n",
    "    --batch_size 128 \\\n",
    "    --use_content_type all \\\n",
    "    --language zh\n",
    "    \n",
    "    \n",
    "    --train_dam_flag \\\n",
    "cd ..\n",
    "\n",
    "\n",
    "                            \"--output_dir\", dam_path,\n",
    "                            \"--model_name_or_path\", init_model,\n",
    "\n",
    "\n",
    "\n",
    "        # set default dam_path\n",
    "        if (not train_dam_flag) and (dam_path == None):\n",
    "            if language == \"zh\":\n",
    "                self.dam_path = \"jingtao/DAM-bert_base-mlm-dureader\"\n",
    "            else:\n",
    "                self.dam_path = \"jingtao/DAM-bert_base-mlm-msmarco\"\n",
    "        \n",
    "        # set REM url\n",
    "        if language == \"zh\":\n",
    "            self.rem_url = \"https://huggingface.co/jingtao/REM-bert_base-dense-distil-dureader/resolve/main/lora192-pa4.zip\"\n",
    "        else:\n",
    "            self.rem_url = \"https://huggingface.co/jingtao/REM-bert_base-dense-distil-msmarco/resolve/main/lora192-pa4.zip\"\n",
    "\n",
    "\n",
    "        if self.language == \"zh\":\n",
    "            init_model = \"jingtao/DAM-bert_base-mlm-dureader\"\n",
    "        else:\n",
    "            init_model = \"jingtao/DAM-bert_base-mlm-msmarco\"\n",
    "\n",
    "        adapter_name = model.load_adapter(self.rem_url)"
   ]
  },
  {
   "cell_type": "code",
   "execution_count": null,
   "metadata": {},
   "outputs": [],
   "source": [
    "cd system/\n",
    "cd RETA-LLM/system/\n",
    "streamlit run web_demo.py --server.port 9999\n",
    "streamlit run web_demo.py --server.port 9999 &> test.log\n",
    "\n",
    "介紹一下歷史學院的專業"
   ]
  },
  {
   "cell_type": "code",
   "execution_count": 5,
   "metadata": {},
   "outputs": [
    {
     "data": {
      "text/plain": [
       "'你好！有什么我可以帮助你的吗？'"
      ]
     },
     "execution_count": 5,
     "metadata": {},
     "output_type": "execute_result"
    }
   ],
   "source": [
    "import os\n",
    "import openai\n",
    "openai.api_key = \"sk-\"\n",
    "os.environ[\"OPENAI_API_KEY\"] = \"sk-\"\n",
    "def chatgpt_response(input_text):\n",
    "    completion = openai.ChatCompletion.create(\n",
    "            model=\"gpt-3.5-turbo\",\n",
    "            messages=[\n",
    "                {\"role\": \"user\", \"content\": input_text}]\n",
    "            )\n",
    "    response_text = completion[\"choices\"][0]['message']['content']\n",
    "    return response_text\n",
    "chatgpt_response(\"你好\")\n",
    "\n",
    "\n"
   ]
  },
  {
   "cell_type": "code",
   "execution_count": null,
   "metadata": {},
   "outputs": [],
   "source": [
    "\n",
    "AI is generating response:\n",
    "\n",
    "学院拥有中国史、世界史、考古学3个一级学科本硕博学位授予权，中国古代史和中国近现代史两个“国家二级重点学科”。现有历史学、世界史、考古学3个本科招生专业，9个硕士学科点，8个博士学科点，4个博士后流动工作站。中国史学科是2017年入选教育部“世界一流学科”建设名单的。历史学专业旨在培养具有宏阔学术视野、厚重人文素养、实践能力出色的综合型专业人才。核心课程包括中国古代史、中国近现代史、中国当代史、中国历史文献学、中国史学史、史学理论、中国历史地理学、中国经济史、中国边疆民族史、中国思想文化史、田野考古学、学术训练与学术规范、史学论文阅读与写作等。世界史专业旨在培养拥有扎实世界史知识、优秀外语应用能力和开阔国际视野的综合型专业人才。核心课程包括世界上古史、世界中古史、世界近代史、世界现代史、世界当代史、星球史、史学论文阅读与写作、田野考古学、西方新史学、西方史学史等。考古学专业旨在培养基础知识牢固、专业技能熟练、学术视野宽广的综合型考古文博和文化遗产专业人才。核心课程包括石器时代考古、夏商周考古、秦汉考古、魏晋-宋元考古、考古学思想史、考古绘图、田野考古学、田野考古实习、考古技术、西方文明的起源等。另外，学院还开设了“政治学-历史学”双学士学位复合型人才培养项目，旨在培养适应新时代治国理政需求的复合型人才。\n",
    "\n",
    "Reference URL:\n",
    "历史学院: http://rdzs.ruc.edu.cn/cms/view/college/4/\n",
    "学院介绍: https://rdzs.ruc.edu.cn/cms/list/college/1/\n",
    "学院介绍: https://rdzs.ruc.edu.cn/cms/list/college/3/\n",
    "User request input\n",
    "\n"
   ]
  },
  {
   "cell_type": "code",
   "execution_count": null,
   "metadata": {},
   "outputs": [],
   "source": [
    "你好，请问有什么可以帮到您的吗？\n",
    "Reference URL:\n",
    "- 高考加油！We want U！: http://rdzs.ruc.edu.cn/cms/view/ztlm/727/\n",
    "- 中国人民大学 | RENMIN UNIVERSITY of CHINA: https://rdzs.ruc.edu.cn/cms/item/1031.html\n",
    "- 中国人民大学 | RENMIN UNIVERSITY of CHINA: http://rdzs.ruc.edu.cn/cms/item/1035.html\n",
    "\n",
    "\n",
    "AI is generating response:\n",
    "\n",
    "你好，有什么我可以帮助你的吗？\n",
    "\n",
    "Reference URL:\n",
    "高考加油！We want U！: http://rdzs.ruc.edu.cn/cms/view/ztlm/727/\n",
    "中国人民大学 | RENMIN UNIVERSITY of CHINA: https://rdzs.ruc.edu.cn/cms/item/1031.html\n",
    "政治学、经济学与哲学（PPE实验班）: https://rdzs.ruc.edu.cn/cms/view/professional/103/"
   ]
  }
 ],
 "metadata": {
  "kernelspec": {
   "display_name": "retallm",
   "language": "python",
   "name": "python3"
  },
  "language_info": {
   "codemirror_mode": {
    "name": "ipython",
    "version": 3
   },
   "file_extension": ".py",
   "mimetype": "text/x-python",
   "name": "python",
   "nbconvert_exporter": "python",
   "pygments_lexer": "ipython3",
   "version": "3.8.16"
  },
  "orig_nbformat": 4
 },
 "nbformat": 4,
 "nbformat_minor": 2
}
